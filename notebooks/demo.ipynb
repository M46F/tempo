{
 "cells": [
  {
   "cell_type": "code",
   "execution_count": 1,
   "metadata": {},
   "outputs": [],
   "source": [
    "from tempo.serve.metadata import ModelFramework\n",
    "from tempo.serve.model import Model\n",
    "from tempo.seldon.docker import SeldonDockerRuntime\n",
    "from tempo.kfserving.protocol import KFServingV2Protocol\n",
    "from tempo.serve.utils import pipeline, predictmethod\n",
    "from tempo.seldon.k8s import SeldonKubernetesRuntime\n",
    "\n",
    "import numpy as np\n",
    "import os \n",
    "import pprint"
   ]
  },
  {
   "cell_type": "code",
   "execution_count": 2,
   "metadata": {},
   "outputs": [],
   "source": [
    "sklearn_model = Model(\n",
    "        name=\"test-iris-sklearn\",\n",
    "        runtime=SeldonDockerRuntime(),\n",
    "        platform=ModelFramework.SKLearn,\n",
    "        uri=\"gs://seldon-models/sklearn/iris\",\n",
    "        local_folder=os.getcwd()+\"/sklearn\")\n",
    "\n",
    "xgboost_model = Model(\n",
    "        name=\"test-iris-xgboost\",\n",
    "        runtime=SeldonDockerRuntime(),\n",
    "        platform=ModelFramework.XGBoost,\n",
    "        uri=\"gs://seldon-models/xgboost/iris\",\n",
    "        local_folder=os.getcwd()+\"/xgboost\")\n",
    "\n",
    "@pipeline(name=\"mypipeline\",\n",
    "          runtime=SeldonDockerRuntime(protocol=KFServingV2Protocol(\"test\")),\n",
    "          uri=\"gs://seldon-models/custom\",\n",
    "          models=[sklearn_model, xgboost_model])\n",
    "class MyPipeline(object):\n",
    "\n",
    "    def __init__(self):\n",
    "        self.counter = 0\n",
    "\n",
    "    @predictmethod\n",
    "    def predict(self, payload: np.ndarray) -> np.ndarray:\n",
    "        self.counter += 1\n",
    "        res1 = sklearn_model(payload)\n",
    "        \n",
    "        if res1[0][0] > 0.7:\n",
    "            return res1\n",
    "        else:\n",
    "            return xgboost_model(payload)\n",
    "        \n",
    "\n",
    "    def get_counter(self):\n",
    "        return self.counter"
   ]
  },
  {
   "cell_type": "code",
   "execution_count": 3,
   "metadata": {},
   "outputs": [
    {
     "name": "stderr",
     "output_type": "stream",
     "text": [
      "2021/02/13 10:02:18 ERROR : : Entry doesn't belong in directory \"\" (same as directory) - ignoring\n",
      "\n",
      "2021/02/13 10:02:19 ERROR : : Entry doesn't belong in directory \"\" (same as directory) - ignoring\n",
      "\n"
     ]
    }
   ],
   "source": [
    "sklearn_model.download()\n",
    "xgboost_model.download()"
   ]
  },
  {
   "cell_type": "code",
   "execution_count": 4,
   "metadata": {},
   "outputs": [],
   "source": [
    "myp = MyPipeline()"
   ]
  },
  {
   "cell_type": "code",
   "execution_count": 6,
   "metadata": {},
   "outputs": [],
   "source": [
    "myp.deploy()"
   ]
  },
  {
   "cell_type": "code",
   "execution_count": 7,
   "metadata": {},
   "outputs": [
    {
     "data": {
      "text/plain": [
       "array([[8.09104104e-01, 1.90862024e-01, 3.38721089e-05]])"
      ]
     },
     "execution_count": 7,
     "metadata": {},
     "output_type": "execute_result"
    }
   ],
   "source": [
    "myp.predict(np.array([[4.9, 3.1, 1.5, 0.2]]))"
   ]
  },
  {
   "cell_type": "code",
   "execution_count": 8,
   "metadata": {},
   "outputs": [],
   "source": [
    "myp.undeploy()"
   ]
  },
  {
   "cell_type": "code",
   "execution_count": 9,
   "metadata": {},
   "outputs": [
    {
     "name": "stderr",
     "output_type": "stream",
     "text": [
      "/home/clive/anaconda3/envs/mlops/lib/python3.7/site-packages/google/auth/_default.py:69: UserWarning: Your application has authenticated using end user credentials from Google Cloud SDK without a quota project. You might receive a \"quota exceeded\" or \"API not enabled\" error. We recommend you rerun `gcloud auth application-default login` and make sure a quota project is added. Or you can use service accounts instead. For more information about service accounts, see https://cloud.google.com/docs/authentication/\n",
      "  warnings.warn(_CLOUD_SDK_CREDENTIALS_WARNING)\n"
     ]
    },
    {
     "name": "stdout",
     "output_type": "stream",
     "text": [
      "apiVersion: machinelearning.seldon.io/v1\n",
      "kind: SeldonDeployment\n",
      "metadata:\n",
      "  name: test-iris-sklearn\n",
      "  namespace: default\n",
      "spec:\n",
      "  predictors:\n",
      "  - graph:\n",
      "      implementation: SKLEARN_SERVER\n",
      "      modelUri: gs://seldon-models/sklearn/iris\n",
      "      name: classifier\n",
      "    name: default\n",
      "    replicas: 1\n",
      "\n"
     ]
    }
   ],
   "source": [
    "sklearn_model._runtime = SeldonKubernetesRuntime()\n",
    "yaml = sklearn_model.to_k8s_yaml()\n",
    "print (eval(pprint.pformat(yaml)))"
   ]
  },
  {
   "cell_type": "code",
   "execution_count": null,
   "metadata": {},
   "outputs": [],
   "source": []
  }
 ],
 "metadata": {
  "kernelspec": {
   "display_name": "Python 3",
   "language": "python",
   "name": "python3"
  },
  "language_info": {
   "codemirror_mode": {
    "name": "ipython",
    "version": 3
   },
   "file_extension": ".py",
   "mimetype": "text/x-python",
   "name": "python",
   "nbconvert_exporter": "python",
   "pygments_lexer": "ipython3",
   "version": "3.7.7"
  }
 },
 "nbformat": 4,
 "nbformat_minor": 4
}
